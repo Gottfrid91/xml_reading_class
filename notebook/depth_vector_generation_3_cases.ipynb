{
 "cells": [
  {
   "cell_type": "code",
   "execution_count": 367,
   "metadata": {},
   "outputs": [],
   "source": [
    "import tensorflow as tf\n",
    "import numpy as np\n",
    "import os\n",
    "import cv2\n",
    "import time\n",
    "import matplotlib.pyplot as plt\n",
    "data_dir = \"/home/olle/PycharmProjects/derive_depth_vector/data/L/13-10-22\"\n",
    "file_name = \"seg_1.tif\"\n",
    "image_path = os.path.join(data_dir,file_name)\n",
    "img = cv2.imread(image_path,0)"
   ]
  },
  {
   "cell_type": "code",
   "execution_count": 368,
   "metadata": {},
   "outputs": [
    {
     "name": "stdout",
     "output_type": "stream",
     "text": [
      "(496, 512)\n"
     ]
    },
    {
     "data": {
      "text/plain": [
       "<matplotlib.image.AxesImage at 0x7f24cf33fb90>"
      ]
     },
     "execution_count": 368,
     "metadata": {},
     "output_type": "execute_result"
    },
    {
     "data": {
      "image/png": "[encoded data removed]",
      "text/plain": [
       "<matplotlib.figure.Figure at 0x7f24cf396150>"
      ]
     },
     "metadata": {},
     "output_type": "display_data"
    }
   ],
   "source": [
    "#create cases\n",
    "print(img.shape)\n",
    "#right\n",
    "img_right = np.copy(img)\n",
    "img_right[:,400:512]=0\n",
    "#left\n",
    "img_left = np.copy(img)\n",
    "img_left[:,0:112]=0\n",
    "#midddle\n",
    "img_middle = np.copy(img)\n",
    "img_middle[:,100:212]=0\n",
    "plt.imshow(img_middle)"
   ]
  },
  {
   "cell_type": "code",
   "execution_count": 68,
   "metadata": {},
   "outputs": [
    {
     "name": "stdout",
     "output_type": "stream",
     "text": [
      "0.698381185532\n"
     ]
    }
   ],
   "source": [
    "start = time.time()\n",
    "\n",
    "top_array = np.zeros(img.shape[1])\n",
    "bottom_array  = np.zeros(img.shape[1])\n",
    "\n",
    "for i in range(0,img.shape[1]):\n",
    "    for j in range(0, img.shape[0]):\n",
    "        if img[j,i] == 255 and img[j-1,i] == 0:\n",
    "            top = j\n",
    "        if img[j,i] == 255 and img[j+1,i] == 0:\n",
    "            bottom = j\n",
    "        \n",
    "    top_array[i] = top\n",
    "    bottom_array[i] = bottom\n",
    "    depth_vector = np.subtract(bottom_array, top_array)\n",
    "end = time.time()\n",
    "print(end - start)\n",
    "    \n",
    "            \n",
    "        "
   ]
  },
  {
   "cell_type": "code",
   "execution_count": 93,
   "metadata": {},
   "outputs": [],
   "source": [
    "for i in range(0,img.shape[1]):\n",
    "    top = np.nonzero(img[:,i])\n"
   ]
  },
  {
   "cell_type": "code",
   "execution_count": 102,
   "metadata": {},
   "outputs": [
    {
     "data": {
      "text/plain": [
       "(array([115, 116, 117, 118, 119, 120, 121, 122, 123, 124, 125, 126, 127,\n",
       "        128, 129, 130, 131, 132, 133, 134, 135, 136, 137, 138, 139, 140,\n",
       "        141, 142, 143, 144, 145, 146, 147, 148, 149, 150, 151, 152, 153,\n",
       "        154, 155, 156, 157, 158, 159, 160, 161, 162, 163, 164, 165, 166,\n",
       "        167, 168, 169, 170]),)"
      ]
     },
     "execution_count": 102,
     "metadata": {},
     "output_type": "execute_result"
    }
   ],
   "source": [
    " np.nonzero(img[:,-4])"
   ]
  },
  {
   "cell_type": "code",
   "execution_count": 365,
   "metadata": {},
   "outputs": [
    {
     "data": {
      "text/plain": [
       "array([[0, 0, 0, ..., 0, 0, 0],\n",
       "       [0, 0, 0, ..., 0, 0, 0],\n",
       "       [0, 0, 0, ..., 0, 0, 0],\n",
       "       ...,\n",
       "       [0, 0, 0, ..., 0, 0, 0],\n",
       "       [0, 0, 0, ..., 0, 0, 0],\n",
       "       [0, 0, 0, ..., 0, 0, 0]], dtype=uint8)"
      ]
     },
     "execution_count": 365,
     "metadata": {},
     "output_type": "execute_result"
    }
   ],
   "source": [
    "img_right"
   ]
  },
  {
   "cell_type": "code",
   "execution_count": 372,
   "metadata": {},
   "outputs": [],
   "source": [
    "img = img_middle\n",
    "def get_interpolated_depth_vector(img):\n",
    "    def find_nearest_min(array, value):\n",
    "        idx = (np.abs(array - value)).argmin()\n",
    "        return idx\n",
    "\n",
    "    def find_nearest_max(array, value):\n",
    "        idx = (np.abs(array - value)).argmax()\n",
    "        return idx\n",
    "\n",
    "    def get_zero_patches(idx_zero):\n",
    "\n",
    "        def split(arr, cond):\n",
    "            return [arr[cond], arr[~cond]]\n",
    "\n",
    "        diff_vector = np.zeros(1+idx_zero.shape[0])\n",
    "        diff_vector[1:]= idx_zero\n",
    "        differences = np.subtract(idx_zero, diff_vector[0:-1])[1:]\n",
    "        indices = np.where(differences>1)\n",
    "        #print(indices, differences)\n",
    "        zero_patches = []\n",
    "\n",
    "        if indices[0].size != 0:\n",
    "            #extract first zero patch\n",
    "            zero_patches.append(idx_zero[np.where(idx_zero <= idx_zero[indices[0][0]])])\n",
    "            #extract the following zero patches\n",
    "            for i in range(indices[0][:].shape[0],0,-1):\n",
    "                zero_patches.append(idx_zero[np.where(idx_zero > idx_zero[indices[0][i-1]])])\n",
    "        if indices[0].size == 0:\n",
    "            zero_patches.append(idx_zero)\n",
    "        return(zero_patches)\n",
    "\n",
    "    start = time.time()\n",
    "\n",
    "    depth_vector = np.zeros(img.shape[1])\n",
    "    for i in range(0,img.shape[1]):\n",
    "        layer = np.argwhere(img[:,i])\n",
    "        if layer.size != 0:  \n",
    "            depth_vector[i] = max(layer) - min(layer)\n",
    "    #interpolation of missing deoth information\n",
    "    #get all indices\n",
    "    idx_nonzero = np.argwhere(depth_vector)\n",
    "    idx_zero = np.where(depth_vector==0)[0]\n",
    "    #print(min(idx_zero),max(idx_zero), idx_zero)\n",
    "\n",
    "    #get list with seperate zero patches\n",
    "    zero_patches = get_zero_patches(idx_zero)\n",
    "    #print(zero_patches)\n",
    "    #find interpolation value       \n",
    "    for patch in zero_patches:\n",
    "        #print(patch)\n",
    "        closest_min = find_nearest_min(idx_nonzero, min(patch))\n",
    "        closest_max = find_nearest_min(idx_nonzero, max(patch)) \n",
    "        #print(closest_min, closest_max)\n",
    "        #print(depth_vector[idx_nonzero[closest_min]],depth_vector[idx_nonzero[closest_max]])\n",
    "        interpolation = (depth_vector[idx_nonzero[closest_min]]+depth_vector[idx_nonzero[closest_max]])/2\n",
    "        #print(interpolation)\n",
    "        #interpolate\n",
    "        depth_vector[patch] = interpolation\n",
    "\n",
    "    end = time.time()\n",
    "    print(end - start)\n",
    "    return depth_vector\n"
   ]
  }
 ],
 "metadata": {
  "kernelspec": {
   "display_name": "Python [conda env:tensorflow]",
   "language": "python",
   "name": "conda-env-tensorflow-py"
  },
  "language_info": {
   "codemirror_mode": {
    "name": "ipython",
    "version": 2
   },
   "file_extension": ".py",
   "mimetype": "text/x-python",
   "name": "python",
   "nbconvert_exporter": "python",
   "pygments_lexer": "ipython2",
   "version": "2.7.14"
  }
 },
 "nbformat": 4,
 "nbformat_minor": 2
}
